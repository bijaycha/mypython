{
 "cells": [
  {
   "cell_type": "code",
   "execution_count": 29,
   "id": "18988a24",
   "metadata": {},
   "outputs": [
    {
     "name": "stdout",
     "output_type": "stream",
     "text": [
      "1\n",
      "2\n",
      "3\n",
      "4\n",
      "5\n",
      "6\n",
      "7\n",
      "8\n",
      "9\n",
      "10\n"
     ]
    }
   ],
   "source": [
    "#print first 10 number \n",
    "i=1\n",
    "for i in range(0,10):\n",
    "    i+=1\n",
    "    print(i)"
   ]
  },
  {
   "cell_type": "code",
   "execution_count": 33,
   "id": "c606484c",
   "metadata": {},
   "outputs": [
    {
     "name": "stdout",
     "output_type": "stream",
     "text": [
      "Enter the number: 10\n",
      "1\n",
      "3\n",
      "6\n",
      "10\n",
      "15\n",
      "21\n",
      "28\n",
      "36\n",
      "45\n",
      "55\n"
     ]
    }
   ],
   "source": [
    "#adding first n number\n",
    "num = int(input(\"Enter the number: \"))\n",
    "i=0\n",
    "for j in range (1,num+1):\n",
    "    i= i+j\n",
    "    print(i)"
   ]
  },
  {
   "cell_type": "code",
   "execution_count": 34,
   "id": "75120a70",
   "metadata": {},
   "outputs": [],
   "source": [
    "#python program to exchange first and last element in a list\n",
    "\n",
    "def swaplist(newlist):\n",
    "    size=len(newlist)\n",
    "    \n",
    "    n1=newlist[0]\n",
    "    newlist[0]= newlist[size-1]\n",
    "    newlist[size-1]=n1\n",
    "    \n",
    "    return newlist"
   ]
  },
  {
   "cell_type": "code",
   "execution_count": 35,
   "id": "8c49d92f",
   "metadata": {},
   "outputs": [
    {
     "data": {
      "text/plain": [
       "[5, 2, 3, 4, 1]"
      ]
     },
     "execution_count": 35,
     "metadata": {},
     "output_type": "execute_result"
    }
   ],
   "source": [
    "newlist=[1,2,3,4,5]\n",
    "swaplist(newlist)"
   ]
  },
  {
   "cell_type": "code",
   "execution_count": 36,
   "id": "73965da8",
   "metadata": {},
   "outputs": [],
   "source": [
    "#simple method exchange first and last element\n",
    "\n",
    "def swaplist(newlist):\n",
    "    \n",
    "    newlist[0],newlist[-1]=newlist[-1],newlist[0]\n",
    "    return newlist"
   ]
  },
  {
   "cell_type": "code",
   "execution_count": 37,
   "id": "28c70767",
   "metadata": {},
   "outputs": [],
   "source": [
    "newlist=[1,2,3,4,5]"
   ]
  },
  {
   "cell_type": "code",
   "execution_count": 38,
   "id": "f9d7f757",
   "metadata": {},
   "outputs": [
    {
     "data": {
      "text/plain": [
       "[5, 2, 3, 4, 1]"
      ]
     },
     "execution_count": 38,
     "metadata": {},
     "output_type": "execute_result"
    }
   ],
   "source": [
    "swaplist(newlist)"
   ]
  },
  {
   "cell_type": "code",
   "execution_count": 3,
   "id": "e12b82c3",
   "metadata": {},
   "outputs": [],
   "source": [
    "#perfect number\n",
    "#return true if n is perfect\n",
    "\n",
    "\n",
    "def perfect(n):\n",
    "    #to store sum of divisior\n",
    "    devsum = 1\n",
    "    \n",
    "    #find all divisor and add them\n",
    "    i = 2\n",
    "    while i*i <= n:\n",
    "        if n % i == 0:\n",
    "            devsum = devsum+i+n/i\n",
    "            i+=1\n",
    "    #if sum of divisior is equal to n then n is a perfect number\n",
    "    \n",
    "    return (True if devsum==n and n!=1 else False)"
   ]
  },
  {
   "cell_type": "code",
   "execution_count": 4,
   "id": "6ef65ad2",
   "metadata": {},
   "outputs": [
    {
     "ename": "KeyboardInterrupt",
     "evalue": "",
     "output_type": "error",
     "traceback": [
      "\u001b[1;31m---------------------------------------------------------------------------\u001b[0m",
      "\u001b[1;31mKeyboardInterrupt\u001b[0m                         Traceback (most recent call last)",
      "Input \u001b[1;32mIn [4]\u001b[0m, in \u001b[0;36m<cell line: 1>\u001b[1;34m()\u001b[0m\n\u001b[1;32m----> 1\u001b[0m \u001b[43mperfect\u001b[49m\u001b[43m(\u001b[49m\u001b[38;5;241;43m9\u001b[39;49m\u001b[43m)\u001b[49m\n",
      "Input \u001b[1;32mIn [3]\u001b[0m, in \u001b[0;36mperfect\u001b[1;34m(n)\u001b[0m\n\u001b[0;32m     10\u001b[0m i \u001b[38;5;241m=\u001b[39m \u001b[38;5;241m2\u001b[39m\n\u001b[0;32m     11\u001b[0m \u001b[38;5;28;01mwhile\u001b[39;00m i\u001b[38;5;241m*\u001b[39mi \u001b[38;5;241m<\u001b[39m\u001b[38;5;241m=\u001b[39m n:\n\u001b[1;32m---> 12\u001b[0m     \u001b[38;5;28;01mif\u001b[39;00m \u001b[43mn\u001b[49m\u001b[43m \u001b[49m\u001b[38;5;241;43m%\u001b[39;49m\u001b[43m \u001b[49m\u001b[43mi\u001b[49m \u001b[38;5;241m==\u001b[39m \u001b[38;5;241m0\u001b[39m:\n\u001b[0;32m     13\u001b[0m         devsum \u001b[38;5;241m=\u001b[39m devsum\u001b[38;5;241m+\u001b[39mi\u001b[38;5;241m+\u001b[39mn\u001b[38;5;241m/\u001b[39mi\n\u001b[0;32m     14\u001b[0m         i\u001b[38;5;241m+\u001b[39m\u001b[38;5;241m=\u001b[39m\u001b[38;5;241m1\u001b[39m\n",
      "\u001b[1;31mKeyboardInterrupt\u001b[0m: "
     ]
    }
   ],
   "source": [
    "perfect(9)"
   ]
  },
  {
   "cell_type": "code",
   "execution_count": 5,
   "id": "34558ce0",
   "metadata": {},
   "outputs": [
    {
     "name": "stdout",
     "output_type": "stream",
     "text": [
      "Twinkle, twinkle little star,\n",
      "\tHow i wonder what you are!\n",
      "\t\tUp ablove the world so high,\n",
      "\t\tLike a diamond in the sky.\n",
      "Twinkle,Twinkle,little star,\n",
      "\tHow I wonder what yoy are!\n"
     ]
    }
   ],
   "source": [
    "print(\"Twinkle, twinkle little star,\\n\\tHow i wonder what you are!\\n\\t\\tUp ablove the world so high,\\n\\t\\tLike a diamond in the sky.\\nTwinkle,Twinkle,little star,\\n\\tHow I wonder what yoy are!\")"
   ]
  },
  {
   "cell_type": "code",
   "execution_count": 6,
   "id": "79422c2d",
   "metadata": {},
   "outputs": [
    {
     "name": "stdout",
     "output_type": "stream",
     "text": [
      "Python version\n",
      "3.9.12 (main, Apr  4 2022, 05:22:27) [MSC v.1916 64 bit (AMD64)]\n",
      "version info.\n",
      "sys.version_info(major=3, minor=9, micro=12, releaselevel='final', serial=0)\n"
     ]
    }
   ],
   "source": [
    "#python version check\n",
    "\n",
    "import sys\n",
    "print(\"Python version\")\n",
    "print(sys.version)\n",
    "print(\"version info.\")\n",
    "print(sys.version_info)"
   ]
  },
  {
   "cell_type": "code",
   "execution_count": 7,
   "id": "caf721fc",
   "metadata": {},
   "outputs": [
    {
     "name": "stdout",
     "output_type": "stream",
     "text": [
      "current date and time: \n",
      "22-07-28 12:14:15\n"
     ]
    }
   ],
   "source": [
    "#checking date and time\n",
    "\n",
    "import datetime\n",
    "now=datetime.datetime.now()\n",
    "print(\"current date and time: \")\n",
    "print(now.strftime(\"%y-%m-%d %H:%M:%S\"))"
   ]
  },
  {
   "cell_type": "code",
   "execution_count": 31,
   "id": "8e620bdf",
   "metadata": {},
   "outputs": [
    {
     "name": "stdout",
     "output_type": "stream",
     "text": [
      "Enter your first name: bijay\n",
      "Enter your surname: chaudhary\n",
      "your name is chaudhary bijay.\n"
     ]
    }
   ],
   "source": [
    "#print first name and last name also reverse name\n",
    "firstname=input(\"Enter your first name: \")\n",
    "surname= input(\"Enter your surname: \")\n",
    "print(\"your name is {} {}.\".format(surname,firstname))\n",
    "    \n",
    "    \n",
    "    "
   ]
  },
  {
   "cell_type": "code",
   "execution_count": 6,
   "id": "86cd397b",
   "metadata": {},
   "outputs": [
    {
     "name": "stdout",
     "output_type": "stream",
     "text": [
      "Enter your number list: 12334\n",
      "['12334']\n"
     ]
    },
    {
     "data": {
      "text/plain": [
       "('12334',)"
      ]
     },
     "execution_count": 6,
     "metadata": {},
     "output_type": "execute_result"
    }
   ],
   "source": [
    "mylist=input(\"Enter your number list: \")\n",
    "list=mylist.split(\",\")\n",
    "print(list)\n",
    "tuple(list)"
   ]
  },
  {
   "cell_type": "code",
   "execution_count": 7,
   "id": "9571479e",
   "metadata": {},
   "outputs": [
    {
     "name": "stdout",
     "output_type": "stream",
     "text": [
      "Red Black\n"
     ]
    }
   ],
   "source": [
    "#display first and last colour of the colourlist\n",
    "\n",
    "colour_list=[\"Red\",\"Blue\",\"Greeen\",\"Black\"]\n",
    "print(colour_list[0],colour_list[-1])"
   ]
  },
  {
   "cell_type": "code",
   "execution_count": 19,
   "id": "26db1089",
   "metadata": {},
   "outputs": [
    {
     "name": "stdout",
     "output_type": "stream",
     "text": [
      "The exam will start from: 11/12/2022\n"
     ]
    }
   ],
   "source": [
    "exam_date=(11,12,2022)\n",
    "print(\"The exam will start from: {}/{}/{}\".format(11,12,2022))"
   ]
  },
  {
   "cell_type": "code",
   "execution_count": 22,
   "id": "1322947d",
   "metadata": {},
   "outputs": [
    {
     "ename": "SyntaxError",
     "evalue": "invalid syntax (3496455295.py, line 3)",
     "output_type": "error",
     "traceback": [
      "\u001b[1;36m  Input \u001b[1;32mIn [22]\u001b[1;36m\u001b[0m\n\u001b[1;33m    n1=int(a)\u001b[0m\n\u001b[1;37m    ^\u001b[0m\n\u001b[1;31mSyntaxError\u001b[0m\u001b[1;31m:\u001b[0m invalid syntax\n"
     ]
    }
   ],
   "source": [
    "###python program tahat ccept an integer n and comute the value n + nn+ nnn\n",
    "a=int(input(\"enter the number: \")\n",
    "n1=int(a)\n",
    "n2=int(a,a)\n",
    "n3=int(a,a,a)\n",
    "print (n1+n2+n3))"
   ]
  },
  {
   "cell_type": "code",
   "execution_count": 28,
   "id": "750a69b7",
   "metadata": {},
   "outputs": [
    {
     "name": "stdout",
     "output_type": "stream",
     "text": [
      "Enter number: 5\n",
      "655\n"
     ]
    }
   ],
   "source": [
    "a=int(input(\"Enter number: \"))\n",
    "n1=int(a)\n",
    "n2=int(a*a)\n",
    "n3=int(a*a*a*a)\n",
    "print (n1+n2+n3)"
   ]
  },
  {
   "cell_type": "code",
   "execution_count": 31,
   "id": "01d4760f",
   "metadata": {},
   "outputs": [
    {
     "name": "stdout",
     "output_type": "stream",
     "text": [
      "3\n"
     ]
    }
   ],
   "source": [
    "#days betwwen the two date\n",
    "\n",
    "from datetime import date\n",
    "f_date=date(2022,7,25)\n",
    "l_date=date(2022,7,28)\n",
    "delta=l_date - f_date\n",
    "print(delta.days)"
   ]
  },
  {
   "cell_type": "code",
   "execution_count": 33,
   "id": "888dc163",
   "metadata": {},
   "outputs": [
    {
     "name": "stdout",
     "output_type": "stream",
     "text": [
      "Enter the number: 6\n",
      "904.3199999999999\n"
     ]
    }
   ],
   "source": [
    "##calculate volume of sphere#\n",
    "num=int(input(\"Enter the number: \"))\n",
    "num=4/3*3.14*num**3\n",
    "print(num)\n"
   ]
  },
  {
   "cell_type": "code",
   "execution_count": 40,
   "id": "5586bd10",
   "metadata": {},
   "outputs": [],
   "source": [
    "#Python program to get the difference between a given number and 17, if the number is greater than 17 return double the absolute difference\n",
    "\n",
    "def num(n):\n",
    "    if n<=17:\n",
    "        return 17-n\n",
    "    else:\n",
    "        return (n-17)*2\n",
    "        "
   ]
  },
  {
   "cell_type": "code",
   "execution_count": 42,
   "id": "0cf91e07",
   "metadata": {},
   "outputs": [
    {
     "name": "stdout",
     "output_type": "stream",
     "text": [
      "10\n"
     ]
    }
   ],
   "source": [
    "print(num(22))"
   ]
  },
  {
   "cell_type": "code",
   "execution_count": 43,
   "id": "a5efc108",
   "metadata": {},
   "outputs": [
    {
     "name": "stdout",
     "output_type": "stream",
     "text": [
      "3\n"
     ]
    }
   ],
   "source": [
    "print(num(14))"
   ]
  },
  {
   "cell_type": "code",
   "execution_count": 47,
   "id": "75c4801d",
   "metadata": {},
   "outputs": [],
   "source": [
    "def num(n):\n",
    "    return (abs(1000-n)<=100) or (abs(2000-n)<=100)"
   ]
  },
  {
   "cell_type": "code",
   "execution_count": 49,
   "id": "93e6285d",
   "metadata": {},
   "outputs": [
    {
     "name": "stdout",
     "output_type": "stream",
     "text": [
      "True\n",
      "True\n",
      "False\n"
     ]
    }
   ],
   "source": [
    "print(num(1000))\n",
    "print(num(900))\n",
    "print(num(800))"
   ]
  },
  {
   "cell_type": "code",
   "execution_count": 50,
   "id": "59a0d0cb",
   "metadata": {},
   "outputs": [],
   "source": [
    "##write a progam sum of three number and if sum are equal return its sum by three times\n",
    "\n",
    "def num(n1,n2,n3):\n",
    "    sum=n1+n2+n3\n",
    "    if n1==n2==n3:\n",
    "        sum=sum*3\n",
    "    return sum\n",
    "    "
   ]
  },
  {
   "cell_type": "code",
   "execution_count": 51,
   "id": "b957d761",
   "metadata": {},
   "outputs": [
    {
     "name": "stdout",
     "output_type": "stream",
     "text": [
      "6\n",
      "27\n"
     ]
    }
   ],
   "source": [
    "print(num(1,2,3))\n",
    "print(num(3,3,3))"
   ]
  },
  {
   "cell_type": "code",
   "execution_count": 52,
   "id": "1a33b503",
   "metadata": {},
   "outputs": [],
   "source": [
    "##Write a Python program to get a new string from a given string where \"Is\" has been added to the front.\n",
    "##If the given string already begins with \"Is\" then return the string unchanged\n",
    "\n",
    "def new_str(str):\n",
    "    if len(str) >= 2 and str[:2] == \"Is\":\n",
    "        return str\n",
    "    return \"Is\"+str"
   ]
  },
  {
   "cell_type": "code",
   "execution_count": 53,
   "id": "d4915ef5",
   "metadata": {},
   "outputs": [
    {
     "name": "stdout",
     "output_type": "stream",
     "text": [
      "Isarray\n",
      "Isstring\n"
     ]
    }
   ],
   "source": [
    "print(new_str(\"array\"))\n",
    "print(new_str(\"Isstring\"))"
   ]
  },
  {
   "cell_type": "code",
   "execution_count": 56,
   "id": "3a6bf78a",
   "metadata": {},
   "outputs": [],
   "source": [
    "#program to get string which is n(non_negetive integer) copies of given integer\n",
    "def mystring(str,n):\n",
    "    result=''\n",
    "    for i in range(n):\n",
    "        result=result+str\n",
    "    return result\n"
   ]
  },
  {
   "cell_type": "code",
   "execution_count": 57,
   "id": "e070e3c7",
   "metadata": {},
   "outputs": [
    {
     "name": "stdout",
     "output_type": "stream",
     "text": [
      "abcabc\n"
     ]
    }
   ],
   "source": [
    "print(mystring(\"abc\",2))"
   ]
  },
  {
   "cell_type": "code",
   "execution_count": 59,
   "id": "6b8051de",
   "metadata": {},
   "outputs": [
    {
     "name": "stdout",
     "output_type": "stream",
     "text": [
      "Enter the number: 4\n",
      "The given number is even number\n"
     ]
    }
   ],
   "source": [
    "#given number is even or not\n",
    "num=int(input(\"Enter the number: \"))\n",
    "if num%2==0:\n",
    "    print(\"The given number is even number\")\n",
    "else:\n",
    "    print(\"The given number is odd number\")\n"
   ]
  },
  {
   "cell_type": "code",
   "execution_count": 60,
   "id": "bf2be7b8",
   "metadata": {},
   "outputs": [],
   "source": [
    "#program to count the number 4 in a given list\n",
    "\n",
    "def arry(num):\n",
    "    count=0\n",
    "    for i in num:\n",
    "        if i == 4:\n",
    "            count=count+1\n",
    "    return count"
   ]
  },
  {
   "cell_type": "code",
   "execution_count": 62,
   "id": "91720187",
   "metadata": {},
   "outputs": [
    {
     "name": "stdout",
     "output_type": "stream",
     "text": [
      "3\n"
     ]
    }
   ],
   "source": [
    "print(arry([1,4,6,7,4,4]))"
   ]
  },
  {
   "cell_type": "code",
   "execution_count": 63,
   "id": "b1aa54ad",
   "metadata": {},
   "outputs": [],
   "source": [
    "list=[1,2,3,4,45,4,6,7]"
   ]
  },
  {
   "cell_type": "code",
   "execution_count": 64,
   "id": "e79de965",
   "metadata": {},
   "outputs": [
    {
     "data": {
      "text/plain": [
       "2"
      ]
     },
     "execution_count": 64,
     "metadata": {},
     "output_type": "execute_result"
    }
   ],
   "source": [
    "list.count(4)"
   ]
  },
  {
   "cell_type": "code",
   "execution_count": 65,
   "id": "73bb561c",
   "metadata": {},
   "outputs": [],
   "source": [
    "#concanate all string\n",
    "\n",
    "def concanate_list(list):\n",
    "    result= ''\n",
    "    for element in list:\n",
    "        result+=str(element)\n",
    "    return result"
   ]
  },
  {
   "cell_type": "code",
   "execution_count": 67,
   "id": "e376f707",
   "metadata": {},
   "outputs": [
    {
     "data": {
      "text/plain": [
       "'12345'"
      ]
     },
     "execution_count": 67,
     "metadata": {},
     "output_type": "execute_result"
    }
   ],
   "source": [
    "concanate_list([1,2,3,4,5])"
   ]
  },
  {
   "cell_type": "code",
   "execution_count": 70,
   "id": "83145ed9",
   "metadata": {},
   "outputs": [],
   "source": [
    "#Write a Python program to print out a set containing all the colors from color_list_1 which are not present in color_list_2\n",
    "pass"
   ]
  },
  {
   "cell_type": "code",
   "execution_count": 73,
   "id": "10e2848e",
   "metadata": {},
   "outputs": [
    {
     "name": "stdout",
     "output_type": "stream",
     "text": [
      "original set element:  {'black', 'white', 'red'} {'green', 'red'}\n",
      "{'black', 'white'}\n",
      "{'green'}\n"
     ]
    }
   ],
   "source": [
    "color1=set([\"white\",\"black\",'red'])\n",
    "color2=set([\"red\",\"green\"])\n",
    "print(\"original set element: \",color1,color2)\n",
    "print(color1.difference(color2))\n",
    "print(color2.difference(color1))\n"
   ]
  },
  {
   "cell_type": "code",
   "execution_count": 74,
   "id": "d619dfa9",
   "metadata": {},
   "outputs": [
    {
     "name": "stdout",
     "output_type": "stream",
     "text": [
      "Enter a base value:  20\n",
      "Enter a height value: 40\n",
      "400.0\n"
     ]
    }
   ],
   "source": [
    "#program that will accept the base and height of a triangle and compute the area.\n",
    "\n",
    "b=int(input(\"Enter a base value:  \"))\n",
    "h=int(input(\"Enter a height value: \"))\n",
    "Area=1/2*b*h\n",
    "print(Area)\n",
    "\n"
   ]
  },
  {
   "cell_type": "code",
   "execution_count": null,
   "id": "37b0c841",
   "metadata": {},
   "outputs": [],
   "source": [
    "#program to compute the greatest common divisor (GCD) of two positive integers\n",
    "\n",
    "def gcd(n1,n2):\n",
    "    gcd=1\n",
    "    if n1%n2=0:\n",
    "        return n2\n",
    "    "
   ]
  }
 ],
 "metadata": {
  "kernelspec": {
   "display_name": "Python 3 (ipykernel)",
   "language": "python",
   "name": "python3"
  },
  "language_info": {
   "codemirror_mode": {
    "name": "ipython",
    "version": 3
   },
   "file_extension": ".py",
   "mimetype": "text/x-python",
   "name": "python",
   "nbconvert_exporter": "python",
   "pygments_lexer": "ipython3",
   "version": "3.9.12"
  }
 },
 "nbformat": 4,
 "nbformat_minor": 5
}
